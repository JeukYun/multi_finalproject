{
 "cells": [
  {
   "cell_type": "code",
   "execution_count": null,
   "metadata": {},
   "outputs": [],
   "source": [
    "import pandas as pd\n",
    "import numpy as np\n",
    "import openpyxl\n",
    "\n",
    "temp = pd.read_excel('data/template_구인구직.xlsx', engine='openpyxl')"
   ]
  },
  {
   "cell_type": "code",
   "execution_count": null,
   "metadata": {},
   "outputs": [],
   "source": [
    "# function화\n",
    "def pre_df(df, temp):\n",
    "    df.fillna( method='pad', inplace=True)\n",
    "    df.columns = temp.columns\n",
    "    df['년/월'] = df['년/월'].str.replace('년 ', '', regex=True).replace('월', '', regex=True)\n",
    "    df['산업_대분류'] = df['산업_대분류'].str.replace('10차_', '', regex=True)\n",
    "    df['직종_소분류'] = df['직종_소분류'].str.replace('2018직종_', '', regex=True)\n",
    "    \n",
    "    return df\n",
    "\n",
    "\n",
    "def merge_file(year):\n",
    "    df = pd.read_excel(f'data/구인구직취업현황(월)_{year}.xlsx', engine='openpyxl')\n",
    "    temp = pd.read_excel('data/template_구인구직.xlsx', engine='openpyxl')\n",
    "\n",
    "    import warnings\n",
    "\n",
    "    warnings.filterwarnings('ignore')\n",
    "\n",
    "    df = pre_df(df, temp)\n",
    "\n",
    "    temp['년/월'] = temp['년/월'].astype('str')\n",
    "    temp['구인인원'].fillna(0, inplace=True)\n",
    "    temp['구직건수'].fillna(0, inplace=True)\n",
    "    temp['취업건수'].fillna(0, inplace=True)\n",
    "\n",
    "    temp['구인인원'] = temp['구인인원'].astype('int64')\n",
    "    temp['구직건수'] = temp['구직건수'].astype('int64')\n",
    "    temp['취업건수'] = temp['취업건수'].astype('int64')\n",
    "\n",
    "    temp_year = temp.loc[temp['년/월'].str.startswith(f'{year}')]\n",
    "\n",
    "    merged = pd.merge(temp_year, df, how='left', on=['년/월', '시도', '산업_대분류', '직종_소분류'])\n",
    "\n",
    "    merged.drop(columns=['구인인원_x', '구직건수_x', '취업건수_x'], inplace=True)\n",
    "\n",
    "    merged.columns = temp.columns\n",
    "\n",
    "    merged.fillna(0, inplace=True)\n",
    "\n",
    "    # merged.to_csv(f'data/구인구직취업현황_{year}_merged.csv', index=False)\n",
    "    \n",
    "    return merged"
   ]
  },
  {
   "cell_type": "code",
   "execution_count": null,
   "metadata": {},
   "outputs": [],
   "source": [
    "df_2018 = merge_file(2018)\n",
    "df_2019 = merge_file(2019)\n",
    "df_2020 = merge_file(2020)\n",
    "df_2021 = merge_file(2021)\n",
    "df_2022 = merge_file(2022)"
   ]
  },
  {
   "cell_type": "code",
   "execution_count": null,
   "metadata": {},
   "outputs": [],
   "source": [
    "dfs = pd.concat([df_2018, df_2019, df_2020, df_2021, df_2022], axis=0, ignore_index=True)\n",
    "dfs.to_csv('data/구인구직취업현황_merged.csv', index=False)"
   ]
  },
  {
   "cell_type": "code",
   "execution_count": null,
   "metadata": {},
   "outputs": [],
   "source": [
    "print(len(temp), len(dfs))"
   ]
  },
  {
   "cell_type": "code",
   "execution_count": null,
   "metadata": {},
   "outputs": [],
   "source": [
    "dfs"
   ]
  },
  {
   "cell_type": "code",
   "execution_count": null,
   "metadata": {},
   "outputs": [],
   "source": [
    "dfs.drop(columns=['직종_소분류']).groupby(['년/월', '시도', '산업_대분류'], sort=False).sum().reset_index()"
   ]
  }
 ],
 "metadata": {
  "language_info": {
   "name": "python"
  },
  "orig_nbformat": 4
 },
 "nbformat": 4,
 "nbformat_minor": 2
}
