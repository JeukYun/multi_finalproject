{
 "cells": [
  {
   "cell_type": "code",
   "execution_count": 4,
   "metadata": {},
   "outputs": [],
   "source": [
    "import pandas as pd\n",
    "import numpy as np\n",
    "import openpyxl\n",
    "\n",
    "temp = pd.read_excel('data/template_수정본.xlsx', engine='openpyxl')\n",
    "data_2018 = pd.read_excel('data/실업급여_지급현황(월)_2018.xlsx', engine='openpyxl')"
   ]
  },
  {
   "cell_type": "code",
   "execution_count": 10,
   "metadata": {},
   "outputs": [
    {
     "data": {
      "text/plain": [
       "117"
      ]
     },
     "execution_count": 10,
     "metadata": {},
     "output_type": "execute_result"
    }
   ],
   "source": [
    "(data_2018['직종_중분류'] == '2018직종_정보통신 연구개발직 및 공학기술직').sum()"
   ]
  },
  {
   "cell_type": "code",
   "execution_count": 13,
   "metadata": {},
   "outputs": [
    {
     "data": {
      "text/html": [
       "<div>\n",
       "<style scoped>\n",
       "    .dataframe tbody tr th:only-of-type {\n",
       "        vertical-align: middle;\n",
       "    }\n",
       "\n",
       "    .dataframe tbody tr th {\n",
       "        vertical-align: top;\n",
       "    }\n",
       "\n",
       "    .dataframe thead th {\n",
       "        text-align: right;\n",
       "    }\n",
       "</style>\n",
       "<table border=\"1\" class=\"dataframe\">\n",
       "  <thead>\n",
       "    <tr style=\"text-align: right;\">\n",
       "      <th></th>\n",
       "      <th>년/월</th>\n",
       "      <th>시도</th>\n",
       "      <th>산업_대분류</th>\n",
       "      <th>실업급여 수급자 수</th>\n",
       "    </tr>\n",
       "  </thead>\n",
       "  <tbody>\n",
       "    <tr>\n",
       "      <th>0</th>\n",
       "      <td>201801</td>\n",
       "      <td>서울</td>\n",
       "      <td>농업, 임업 및 어업</td>\n",
       "      <td>NaN</td>\n",
       "    </tr>\n",
       "    <tr>\n",
       "      <th>1</th>\n",
       "      <td>201801</td>\n",
       "      <td>서울</td>\n",
       "      <td>광업</td>\n",
       "      <td>NaN</td>\n",
       "    </tr>\n",
       "    <tr>\n",
       "      <th>2</th>\n",
       "      <td>201801</td>\n",
       "      <td>서울</td>\n",
       "      <td>제조업</td>\n",
       "      <td>NaN</td>\n",
       "    </tr>\n",
       "    <tr>\n",
       "      <th>3</th>\n",
       "      <td>201801</td>\n",
       "      <td>서울</td>\n",
       "      <td>전기, 가스, 증기 및 공기조절 공급업</td>\n",
       "      <td>NaN</td>\n",
       "    </tr>\n",
       "    <tr>\n",
       "      <th>4</th>\n",
       "      <td>201801</td>\n",
       "      <td>서울</td>\n",
       "      <td>수도, 하수 및 폐기물 처리, 원료 재생업</td>\n",
       "      <td>NaN</td>\n",
       "    </tr>\n",
       "    <tr>\n",
       "      <th>...</th>\n",
       "      <td>...</td>\n",
       "      <td>...</td>\n",
       "      <td>...</td>\n",
       "      <td>...</td>\n",
       "    </tr>\n",
       "    <tr>\n",
       "      <th>23455</th>\n",
       "      <td>202212</td>\n",
       "      <td>제주</td>\n",
       "      <td>협회 및 단체, 수리 및 기타 개인 서비스업</td>\n",
       "      <td>NaN</td>\n",
       "    </tr>\n",
       "    <tr>\n",
       "      <th>23456</th>\n",
       "      <td>202212</td>\n",
       "      <td>제주</td>\n",
       "      <td>가구 내 고용활동 및 달리 분류되지 않은 자가소비 생산활동</td>\n",
       "      <td>NaN</td>\n",
       "    </tr>\n",
       "    <tr>\n",
       "      <th>23457</th>\n",
       "      <td>202212</td>\n",
       "      <td>제주</td>\n",
       "      <td>국제 및 외국기관</td>\n",
       "      <td>NaN</td>\n",
       "    </tr>\n",
       "    <tr>\n",
       "      <th>23458</th>\n",
       "      <td>202212</td>\n",
       "      <td>제주</td>\n",
       "      <td>분류불능</td>\n",
       "      <td>NaN</td>\n",
       "    </tr>\n",
       "    <tr>\n",
       "      <th>23459</th>\n",
       "      <td>202212</td>\n",
       "      <td>제주</td>\n",
       "      <td>해당없음</td>\n",
       "      <td>NaN</td>\n",
       "    </tr>\n",
       "  </tbody>\n",
       "</table>\n",
       "<p>23460 rows × 4 columns</p>\n",
       "</div>"
      ],
      "text/plain": [
       "          년/월  시도                            산업_대분류  실업급여 수급자 수\n",
       "0      201801  서울                       농업, 임업 및 어업         NaN\n",
       "1      201801  서울                                광업         NaN\n",
       "2      201801  서울                               제조업         NaN\n",
       "3      201801  서울             전기, 가스, 증기 및 공기조절 공급업         NaN\n",
       "4      201801  서울           수도, 하수 및 폐기물 처리, 원료 재생업         NaN\n",
       "...       ...  ..                               ...         ...\n",
       "23455  202212  제주          협회 및 단체, 수리 및 기타 개인 서비스업         NaN\n",
       "23456  202212  제주  가구 내 고용활동 및 달리 분류되지 않은 자가소비 생산활동         NaN\n",
       "23457  202212  제주                         국제 및 외국기관         NaN\n",
       "23458  202212  제주                              분류불능         NaN\n",
       "23459  202212  제주                              해당없음         NaN\n",
       "\n",
       "[23460 rows x 4 columns]"
      ]
     },
     "execution_count": 13,
     "metadata": {},
     "output_type": "execute_result"
    }
   ],
   "source": [
    "temp[['년/월', '시도', '산업_대분류', '실업급여 수급자 수']]"
   ]
  },
  {
   "cell_type": "code",
   "execution_count": 67,
   "metadata": {},
   "outputs": [],
   "source": [
    "def pre_df(df, temp):\n",
    "    df.fillna( method='pad', inplace=True)\n",
    "    target = df.loc[df['직종_중분류'] == '2018직종_정보통신 연구개발직 및 공학기술직'].reset_index(drop=True)\n",
    "    target['마감년월'] = target['마감년월'].str.replace('년', '', regex=True).replace('월', '', regex=True)\n",
    "    target['산업_대분류'] = target['산업_대분류'].str.replace('10차_', '', regex=True)\n",
    "    del target['직종_중분류']\n",
    "    target = target[target['(거주지)시도'] != '분류불능']\n",
    "    region = {'서울특별시':'서울', '부산광역시':'부산', '인천광역시':'인천', '광주광역시':'광주', '대구광역시':'대구', '대전광역시':'대전',\n",
    "              '울산광역시':'울산', '세종특별자치시':'세종', '경기도':'경기', '강원특별자치도':'강원', '충청남도':'충남', '충청북도':'충북',\n",
    "              '전라남도':'전남', '전라북도':'전북', '경상남도':'경남', '경상북도':'경북', '제주도':'제주'}\n",
    "    for k, v in region.items():\n",
    "        target['(거주지)시도'] = target['(거주지)시도'].str.replace(k, v)\n",
    "    return target\n",
    "\n",
    "def merge_file(year):\n",
    "    import pandas as pd\n",
    "    import numpy as np\n",
    "    import openpyxl\n",
    "    \n",
    "    df = pd.read_excel(f'data/실업급여_지급현황(월)_{year}.xlsx', engine='openpyxl')\n",
    "    temp = pd.read_excel('data/template_수정본.xlsx', engine='openpyxl')\n",
    "    temp = temp[['년/월', '시도', '산업_대분류', '실업급여 수급자 수']]\n",
    "\n",
    "    import warnings\n",
    "    warnings.filterwarnings('ignore')\n",
    "\n",
    "    df = pre_df(df, temp)\n",
    "    df.columns = temp.columns\n",
    "\n",
    "    temp['년/월'] = temp['년/월'].astype('str')\n",
    "    temp['실업급여 수급자 수'].fillna(0, inplace=True)\n",
    "\n",
    "    temp['실업급여 수급자 수'] = temp['실업급여 수급자 수'].astype('int64')\n",
    "\n",
    "    temp_year = temp.loc[temp['년/월'].str.startswith(f'{year}')]\n",
    "\n",
    "    merged = pd.merge(temp_year, df, how='left', on=['년/월', '시도', '산업_대분류'])\n",
    "\n",
    "    merged.drop(columns=['실업급여 수급자 수_x'], inplace=True)\n",
    "\n",
    "    merged.columns = ['년/월', '시도', '산업_대분류', '실업급여 수급자 수']\n",
    "\n",
    "    merged.fillna(0, inplace=True)\n",
    "\n",
    "    # merged.to_csv(f'data/구인구직취업현황_{year}_merged.csv', index=False)\n",
    "    \n",
    "    return merged"
   ]
  },
  {
   "cell_type": "code",
   "execution_count": 70,
   "metadata": {},
   "outputs": [
    {
     "name": "stdout",
     "output_type": "stream",
     "text": [
      "23460 23460\n"
     ]
    }
   ],
   "source": [
    "df_2018 = merge_file(2018)\n",
    "df_2019 = merge_file(2019)\n",
    "df_2020 = merge_file(2020)\n",
    "df_2021 = merge_file(2021)\n",
    "df_2022 = merge_file(2022)\n",
    "\n",
    "dfs = pd.concat([df_2018, df_2019, df_2020, df_2021, df_2022], axis=0, ignore_index=True)\n",
    "print(len(temp), len(dfs))"
   ]
  },
  {
   "cell_type": "code",
   "execution_count": 72,
   "metadata": {},
   "outputs": [],
   "source": [
    "dfs.to_csv('data/실업급여수급자수_merge.csv', index=False, encoding='utf-8')"
   ]
  },
  {
   "cell_type": "code",
   "execution_count": null,
   "metadata": {},
   "outputs": [],
   "source": []
  }
 ],
 "metadata": {
  "kernelspec": {
   "display_name": "Python 3",
   "language": "python",
   "name": "python3"
  },
  "language_info": {
   "codemirror_mode": {
    "name": "ipython",
    "version": 3
   },
   "file_extension": ".py",
   "mimetype": "text/x-python",
   "name": "python",
   "nbconvert_exporter": "python",
   "pygments_lexer": "ipython3",
   "version": "3.11.3"
  },
  "orig_nbformat": 4
 },
 "nbformat": 4,
 "nbformat_minor": 2
}
