{
 "cells": [
  {
   "cell_type": "code",
   "execution_count": 19,
   "metadata": {},
   "outputs": [],
   "source": [
    "import pandas as pd\n",
    "import numpy as np"
   ]
  },
  {
   "cell_type": "markdown",
   "metadata": {},
   "source": [
    "# 전처리 할 파일 및 크롤링 실패한 url 불러오기"
   ]
  },
  {
   "cell_type": "code",
   "execution_count": 20,
   "metadata": {},
   "outputs": [],
   "source": [
    "# 회사명\n",
    "df_name_data_eng = pd.read_csv(\"C:\\Data_Engineer_Study\\멀캠_PJT_2\\multi_finalproject\\data\\\\name_bigdata_eng.csv\")\n",
    "df_name_data_analy = pd.read_csv(\"C:\\Data_Engineer_Study\\멀캠_PJT_2\\multi_finalproject\\data\\\\name_data_analy.csv\")\n",
    "df_name_data_sci = pd.read_csv(\"C:\\Data_Engineer_Study\\멀캠_PJT_2\\multi_finalproject\\data\\\\name_data_sci.csv\")"
   ]
  },
  {
   "cell_type": "code",
   "execution_count": 21,
   "metadata": {},
   "outputs": [],
   "source": [
    "# 우대사항\n",
    "df_prefer_data_eng = pd.read_csv(\"C:\\Data_Engineer_Study\\멀캠_PJT_2\\multi_finalproject\\data\\prefer_bigdata_eng.csv\")\n",
    "df_prefer_data_analy = pd.read_csv(\"C:\\Data_Engineer_Study\\멀캠_PJT_2\\multi_finalproject\\data\\prefer_data_analy.csv\")\n",
    "df_prefer_data_sci = pd.read_csv(\"C:\\Data_Engineer_Study\\멀캠_PJT_2\\multi_finalproject\\data\\prefer_data_sci.csv\")"
   ]
  },
  {
   "cell_type": "code",
   "execution_count": 22,
   "metadata": {},
   "outputs": [],
   "source": [
    "# 지역\n",
    "df_loc_data_eng = pd.read_csv(\"C:\\Data_Engineer_Study\\멀캠_PJT_2\\multi_finalproject\\data\\loc_bigdata_eng.csv\")\n",
    "df_loc_data_analy = pd.read_csv(\"C:\\Data_Engineer_Study\\멀캠_PJT_2\\multi_finalproject\\data\\loc_data_analy.csv\")\n",
    "df_loc_data_sci = pd.read_csv(\"C:\\Data_Engineer_Study\\멀캠_PJT_2\\multi_finalproject\\data\\loc_data_sci.csv\")"
   ]
  },
  {
   "cell_type": "code",
   "execution_count": 23,
   "metadata": {},
   "outputs": [],
   "source": [
    "# tool\n",
    "df_tool_data_eng = pd.read_csv(\"C:\\Data_Engineer_Study\\멀캠_PJT_2\\multi_finalproject\\data\\\\tool_bigdata_eng.csv\")\n",
    "df_tool_data_analy = pd.read_csv(\"C:\\Data_Engineer_Study\\멀캠_PJT_2\\multi_finalproject\\data\\\\tool_data_analy.csv\")\n",
    "df_tool_data_sci = pd.read_csv(\"C:\\Data_Engineer_Study\\멀캠_PJT_2\\multi_finalproject\\data\\\\tool_data_sci.csv\")"
   ]
  },
  {
   "cell_type": "code",
   "execution_count": 24,
   "metadata": {},
   "outputs": [],
   "source": [
    "# url\n",
    "df_url_data_eng = pd.read_csv(\"C:\\Data_Engineer_Study\\멀캠_PJT_2\\multi_finalproject\\data\\\\urls_bigdata_eng.csv\")\n",
    "df_url_data_analy = pd.read_csv(\"C:\\Data_Engineer_Study\\멀캠_PJT_2\\multi_finalproject\\data\\\\urls_data_analy.csv\")\n",
    "df_url_data_sci = pd.read_csv(\"C:\\Data_Engineer_Study\\멀캠_PJT_2\\multi_finalproject\\data\\\\urls_data_sci.csv\")"
   ]
  },
  {
   "cell_type": "code",
   "execution_count": 25,
   "metadata": {},
   "outputs": [],
   "source": [
    "# 크롤링 실패\n",
    "df_fail_data_eng = pd.read_csv(\"C:\\Data_Engineer_Study\\멀캠_PJT_2\\multi_finalproject\\data\\\\fail_url_bigdata_eng.csv\")\n",
    "df_fail_data_analy = pd.read_csv(\"C:\\Data_Engineer_Study\\멀캠_PJT_2\\multi_finalproject\\data\\\\fail_url_data_analy.csv\")\n",
    "df_fail_data_sci = pd.read_csv(\"C:\\Data_Engineer_Study\\멀캠_PJT_2\\multi_finalproject\\data\\\\fail_url_data_sci.csv\")"
   ]
  },
  {
   "cell_type": "code",
   "execution_count": 26,
   "metadata": {},
   "outputs": [
    {
     "name": "stdout",
     "output_type": "stream",
     "text": [
      "0    158\n",
      "dtype: int64\n",
      "0    163\n",
      "dtype: int64\n",
      "0    228\n",
      "dtype: int64\n"
     ]
    }
   ],
   "source": [
    "# 실패한 크롤링 확인\n",
    "print(df_fail_data_eng.isna().sum())\n",
    "print(df_fail_data_analy.isna().sum())\n",
    "print(df_fail_data_sci.isna().sum())\n",
    "\n",
    "# 모두 정상적으로 크롤링 완료"
   ]
  },
  {
   "cell_type": "code",
   "execution_count": 27,
   "metadata": {},
   "outputs": [],
   "source": [
    "df_data_eng = pd.concat([df_name_data_eng, df_prefer_data_eng, df_loc_data_eng, df_url_data_eng, df_tool_data_eng], axis = 1)\n",
    "df_data_anl = pd.concat([df_name_data_analy, df_prefer_data_analy, df_loc_data_analy, df_url_data_analy, df_tool_data_analy], axis = 1)\n",
    "df_data_sci = pd.concat([df_name_data_sci, df_prefer_data_sci, df_loc_data_sci, df_url_data_sci, df_tool_data_sci], axis = 1)\n",
    "\n",
    "col = ['company', 'prefer','location', 'url', 'tool']\n",
    "\n",
    "df_data_eng.columns = col\n",
    "df_data_anl.columns = col\n",
    "df_data_sci.columns = col"
   ]
  },
  {
   "cell_type": "code",
   "execution_count": 28,
   "metadata": {},
   "outputs": [
    {
     "data": {
      "text/html": [
       "<div>\n",
       "<style scoped>\n",
       "    .dataframe tbody tr th:only-of-type {\n",
       "        vertical-align: middle;\n",
       "    }\n",
       "\n",
       "    .dataframe tbody tr th {\n",
       "        vertical-align: top;\n",
       "    }\n",
       "\n",
       "    .dataframe thead th {\n",
       "        text-align: right;\n",
       "    }\n",
       "</style>\n",
       "<table border=\"1\" class=\"dataframe\">\n",
       "  <thead>\n",
       "    <tr style=\"text-align: right;\">\n",
       "      <th></th>\n",
       "      <th>company</th>\n",
       "      <th>prefer</th>\n",
       "      <th>location</th>\n",
       "      <th>url</th>\n",
       "      <th>tool</th>\n",
       "    </tr>\n",
       "  </thead>\n",
       "  <tbody>\n",
       "    <tr>\n",
       "      <th>0</th>\n",
       "      <td>웨이커</td>\n",
       "      <td>• 금융 도메인 경험이 있으신 분\\n• 주식 투자에 대한 관심과 경험이 있으신 분\\...</td>\n",
       "      <td>서울.한국</td>\n",
       "      <td>https://www.wanted.co.kr/wd/183274</td>\n",
       "      <td>Confluence\\nGit\\nGitLab\\nJIRA\\nPython\\nSQL\\nNL...</td>\n",
       "    </tr>\n",
       "    <tr>\n",
       "      <th>1</th>\n",
       "      <td>타이드풀(TIDEPOOL)</td>\n",
       "      <td>• R&amp;D, 납품 용역 과제 수행 및 관리 경험\\n• AI 관련 석사학위 이상의 연...</td>\n",
       "      <td>대전.한국</td>\n",
       "      <td>https://www.wanted.co.kr/wd/183049</td>\n",
       "      <td>Git\\nDjango\\nPytorch\\nHTML\\nJavaScript\\nPython...</td>\n",
       "    </tr>\n",
       "    <tr>\n",
       "      <th>2</th>\n",
       "      <td>엠에스홀딩스</td>\n",
       "      <td>• AI 또는 디지털을 활용한 검색, 기사 발굴, 작성 경험자\\n• 데이터사이언스,...</td>\n",
       "      <td>서울.한국</td>\n",
       "      <td>https://www.wanted.co.kr/wd/182955</td>\n",
       "      <td>Git\\nReact\\nHTML\\nJavaScript</td>\n",
       "    </tr>\n",
       "    <tr>\n",
       "      <th>3</th>\n",
       "      <td>엠에스인포테크</td>\n",
       "      <td>• AI 또는 디지털을 활용한 검색, 기사 발굴, 작성 경험자\\n• 데이터사이언스,...</td>\n",
       "      <td>서울.한국</td>\n",
       "      <td>https://www.wanted.co.kr/wd/182913</td>\n",
       "      <td>NaN</td>\n",
       "    </tr>\n",
       "    <tr>\n",
       "      <th>4</th>\n",
       "      <td>엠에스투데이</td>\n",
       "      <td>• AI 또는 디지털을 활용한 검색, 기사 발굴, 작성 경험자\\n• 데이터사이언스,...</td>\n",
       "      <td>서울.한국</td>\n",
       "      <td>https://www.wanted.co.kr/wd/182617</td>\n",
       "      <td>NaN</td>\n",
       "    </tr>\n",
       "    <tr>\n",
       "      <th>...</th>\n",
       "      <td>...</td>\n",
       "      <td>...</td>\n",
       "      <td>...</td>\n",
       "      <td>...</td>\n",
       "      <td>...</td>\n",
       "    </tr>\n",
       "    <tr>\n",
       "      <th>153</th>\n",
       "      <td>워트인텔리전스</td>\n",
       "      <td>- Full-Stack 개발자\\n- 검색엔진으로 서비스 진행 경험\\n- 유지보수를 ...</td>\n",
       "      <td>서울.한국</td>\n",
       "      <td>https://www.wanted.co.kr/wd/38844</td>\n",
       "      <td>MySQL\\nOracle\\nReact\\nJava\\nJavaScript\\nKotlin...</td>\n",
       "    </tr>\n",
       "    <tr>\n",
       "      <th>154</th>\n",
       "      <td>여기어때컴퍼니</td>\n",
       "      <td>- 이기종 데이터베이스 마이그레이션 경험이 있으신 분\\n- 대용량 트래픽 처리를 위...</td>\n",
       "      <td>서울.한국</td>\n",
       "      <td>https://www.wanted.co.kr/wd/30861</td>\n",
       "      <td>NaN</td>\n",
       "    </tr>\n",
       "    <tr>\n",
       "      <th>155</th>\n",
       "      <td>워트인텔리전스</td>\n",
       "      <td>- 대량의 데이터를 파이프라인으로 다뤄본 경험\\n- 검색엔진을 다뤄본 경험\\n- 데...</td>\n",
       "      <td>서울.한국</td>\n",
       "      <td>https://www.wanted.co.kr/wd/26823</td>\n",
       "      <td>MySQL\\nOracle\\nReact\\nJava\\nJavaScript\\nKotlin...</td>\n",
       "    </tr>\n",
       "    <tr>\n",
       "      <th>156</th>\n",
       "      <td>케이티넥스알(KTNexR)</td>\n",
       "      <td>• Big Data 관련 개발 경험 및 관련 Open Source 사용 경험\\n• ...</td>\n",
       "      <td>서울.한국</td>\n",
       "      <td>https://www.wanted.co.kr/wd/13250</td>\n",
       "      <td>NaN</td>\n",
       "    </tr>\n",
       "    <tr>\n",
       "      <th>157</th>\n",
       "      <td>케이티넥스알(KTNexR)</td>\n",
       "      <td>• Hadoop 및 Hadoop Eco 활용 가능자( hdfs, Spark, Hiv...</td>\n",
       "      <td>서울.한국</td>\n",
       "      <td>https://www.wanted.co.kr/wd/11997</td>\n",
       "      <td>NaN</td>\n",
       "    </tr>\n",
       "  </tbody>\n",
       "</table>\n",
       "<p>158 rows × 5 columns</p>\n",
       "</div>"
      ],
      "text/plain": [
       "            company                                             prefer   \n",
       "0               웨이커  • 금융 도메인 경험이 있으신 분\\n• 주식 투자에 대한 관심과 경험이 있으신 분\\...  \\\n",
       "1    타이드풀(TIDEPOOL)  • R&D, 납품 용역 과제 수행 및 관리 경험\\n• AI 관련 석사학위 이상의 연...   \n",
       "2            엠에스홀딩스  • AI 또는 디지털을 활용한 검색, 기사 발굴, 작성 경험자\\n• 데이터사이언스,...   \n",
       "3           엠에스인포테크  • AI 또는 디지털을 활용한 검색, 기사 발굴, 작성 경험자\\n• 데이터사이언스,...   \n",
       "4            엠에스투데이  • AI 또는 디지털을 활용한 검색, 기사 발굴, 작성 경험자\\n• 데이터사이언스,...   \n",
       "..              ...                                                ...   \n",
       "153         워트인텔리전스  - Full-Stack 개발자\\n- 검색엔진으로 서비스 진행 경험\\n- 유지보수를 ...   \n",
       "154         여기어때컴퍼니  - 이기종 데이터베이스 마이그레이션 경험이 있으신 분\\n- 대용량 트래픽 처리를 위...   \n",
       "155         워트인텔리전스  - 대량의 데이터를 파이프라인으로 다뤄본 경험\\n- 검색엔진을 다뤄본 경험\\n- 데...   \n",
       "156  케이티넥스알(KTNexR)  • Big Data 관련 개발 경험 및 관련 Open Source 사용 경험\\n• ...   \n",
       "157  케이티넥스알(KTNexR)  • Hadoop 및 Hadoop Eco 활용 가능자( hdfs, Spark, Hiv...   \n",
       "\n",
       "    location                                 url   \n",
       "0      서울.한국  https://www.wanted.co.kr/wd/183274  \\\n",
       "1      대전.한국  https://www.wanted.co.kr/wd/183049   \n",
       "2      서울.한국  https://www.wanted.co.kr/wd/182955   \n",
       "3      서울.한국  https://www.wanted.co.kr/wd/182913   \n",
       "4      서울.한국  https://www.wanted.co.kr/wd/182617   \n",
       "..       ...                                 ...   \n",
       "153    서울.한국   https://www.wanted.co.kr/wd/38844   \n",
       "154    서울.한국   https://www.wanted.co.kr/wd/30861   \n",
       "155    서울.한국   https://www.wanted.co.kr/wd/26823   \n",
       "156    서울.한국   https://www.wanted.co.kr/wd/13250   \n",
       "157    서울.한국   https://www.wanted.co.kr/wd/11997   \n",
       "\n",
       "                                                  tool  \n",
       "0    Confluence\\nGit\\nGitLab\\nJIRA\\nPython\\nSQL\\nNL...  \n",
       "1    Git\\nDjango\\nPytorch\\nHTML\\nJavaScript\\nPython...  \n",
       "2                         Git\\nReact\\nHTML\\nJavaScript  \n",
       "3                                                  NaN  \n",
       "4                                                  NaN  \n",
       "..                                                 ...  \n",
       "153  MySQL\\nOracle\\nReact\\nJava\\nJavaScript\\nKotlin...  \n",
       "154                                                NaN  \n",
       "155  MySQL\\nOracle\\nReact\\nJava\\nJavaScript\\nKotlin...  \n",
       "156                                                NaN  \n",
       "157                                                NaN  \n",
       "\n",
       "[158 rows x 5 columns]"
      ]
     },
     "execution_count": 28,
     "metadata": {},
     "output_type": "execute_result"
    }
   ],
   "source": [
    "df_data_eng"
   ]
  },
  {
   "cell_type": "markdown",
   "metadata": {},
   "source": [
    "- 데이터 프레임 저장"
   ]
  },
  {
   "cell_type": "code",
   "execution_count": 29,
   "metadata": {},
   "outputs": [],
   "source": [
    "# df_data_eng.to_csv(\"BigData_ENG.csv\", index = False)\n",
    "# df_data_anl.to_csv(\"Data_ANL.csv\", index = False)\n",
    "# df_data_sci.to_csv(\"Data_SCI.csv\", index = False)"
   ]
  },
  {
   "cell_type": "markdown",
   "metadata": {},
   "source": [
    "- 크롤링 실패한 사이트 정보 가지고오기"
   ]
  },
  {
   "cell_type": "markdown",
   "metadata": {},
   "source": [
    "- 누락된 크롤링정보 추가"
   ]
  },
  {
   "cell_type": "code",
   "execution_count": 30,
   "metadata": {},
   "outputs": [],
   "source": [
    "# #2개씩 밖에 없어서 그냥 수동으로 복붙해서 가지고옴\n",
    "# data_analy_loc = ['서울.한국', '서울.한국']\n",
    "# data_analy_prefer = ['''- Tableau, Redash 등의 툴을 활용해 대시보드를 구현해 본 경험이 있는 분\n",
    "#                      - 숫자 기반의 논리적 추론 결과를 바탕으로 사업과 기술 측면에서 효과적으로 소통할 수 있는 분\n",
    "#                      - 다양한 부서와 협업하며, 이해와 존중을 바탕으로 유연하게 커뮤니케이션이 가능한 분\n",
    "#                      - 일의 처리과정을 효율화하고, 체계적인 프로세스를 설계해 본 경험이 있는 분\n",
    "#                      - 사업, 프로덕트 실무 부서에서 데이터 분석 결과를 기반으로 실질적인 성과를 만들어 내본 경험이 있는 분 \n",
    "#                      - 업무적 성장을 위해 지속적인 노력을 기울이며, 팀과 함께 성장하고 싶은 분''',\n",
    "#                      '''• 대규모 유저, Transaction 기반의 데이터 분석을 경험해보신 분\n",
    "#                      • 대규모 유저가 사용하는 앱 데이터를 분석하고, 이를 바탕으로 프로덕트를 개선한 경험이 있으신 분\n",
    "#                      • 퍼널 분석, 코호트 분석, A/B 테스트 등의 방법론을 실무에 적용하여 인사이트를 도출한 경험이 있으신 분\n",
    "#                      • 다양한 툴이나 분석 방법론에 대해서 새롭게 학습하고 적용해본 성공사례를 갖고 계신 분\n",
    "#                      • 유저 세그먼트를 구분하고, 이를 바탕으로 앱 데이터를 분석한 경험이 있으신 분\n",
    "#                      • Tableau, Data Studio 등 BI툴을 활용하여 시각화, 분석 결론이 정리된 리포트를 경영진에게 리포팅할 수 있는 분''']\n",
    "# data_analy_tool = [np.nan, np.nan]\n",
    "\n",
    "# data_sci_loc = ['서울.한국', '서울.한국']\n",
    "# data_sci_prefer = ['''- 데이팅, 소셜 네트워크, Two-Sided Market 과 같은 서비스에 대한 높은 이해도와 경험이 있으신분\n",
    "#                    - PySpark 등을 사용해 대용량 데이터 처리를 통한 데이터 분석을 해 보신 분\n",
    "#                    - 신규 서비스 런칭, 버전업, 글로벌 진출 등 프로덕트의 다양한 성장 변곡점을 경험해보신 분''',\n",
    "#                    '''• 수학, 물리, 통계, 산업공학 학위를 소지하신 분\n",
    "#                    • 외국어(영어)로 업무 진행이 가능하신 분\n",
    "#                    • ML, DL, AI 분야 중 하나 이상의 컴피티션 (데이콘, 캐글 등)에서 상위권 경험이 있으신분 - 최종랭킹 링크 제출''']\n",
    "# data_sci_tool = ['Python','Git/nGithub/nMySQL/nHTML/nPython/nSQL/nAWS/nDocker']\n",
    "\n",
    "\n",
    "# anl_new = pd.DataFrame({'prefer' : data_analy_prefer, 'location' : data_analy_loc, 'tool' : data_analy_tool})\n",
    "# sci_new = pd.DataFrame({'prefer' : data_sci_prefer, 'location' : data_sci_loc, 'tool' : data_sci_tool})"
   ]
  },
  {
   "cell_type": "markdown",
   "metadata": {},
   "source": [
    "---"
   ]
  },
  {
   "cell_type": "markdown",
   "metadata": {},
   "source": [
    "# 테이블화"
   ]
  },
  {
   "cell_type": "code",
   "execution_count": 31,
   "metadata": {},
   "outputs": [
    {
     "data": {
      "text/html": [
       "<div>\n",
       "<style scoped>\n",
       "    .dataframe tbody tr th:only-of-type {\n",
       "        vertical-align: middle;\n",
       "    }\n",
       "\n",
       "    .dataframe tbody tr th {\n",
       "        vertical-align: top;\n",
       "    }\n",
       "\n",
       "    .dataframe thead th {\n",
       "        text-align: right;\n",
       "    }\n",
       "</style>\n",
       "<table border=\"1\" class=\"dataframe\">\n",
       "  <thead>\n",
       "    <tr style=\"text-align: right;\">\n",
       "      <th></th>\n",
       "      <th>company</th>\n",
       "      <th>url</th>\n",
       "      <th>tool</th>\n",
       "    </tr>\n",
       "  </thead>\n",
       "  <tbody>\n",
       "    <tr>\n",
       "      <th>0</th>\n",
       "      <td>웨이커</td>\n",
       "      <td>https://www.wanted.co.kr/wd/183274</td>\n",
       "      <td>Confluence\\nGit\\nGitLab\\nJIRA\\nPython\\nSQL\\nNL...</td>\n",
       "    </tr>\n",
       "    <tr>\n",
       "      <th>1</th>\n",
       "      <td>타이드풀(TIDEPOOL)</td>\n",
       "      <td>https://www.wanted.co.kr/wd/183049</td>\n",
       "      <td>Git\\nDjango\\nPytorch\\nHTML\\nJavaScript\\nPython...</td>\n",
       "    </tr>\n",
       "    <tr>\n",
       "      <th>2</th>\n",
       "      <td>엠에스홀딩스</td>\n",
       "      <td>https://www.wanted.co.kr/wd/182955</td>\n",
       "      <td>Git\\nReact\\nHTML\\nJavaScript</td>\n",
       "    </tr>\n",
       "    <tr>\n",
       "      <th>3</th>\n",
       "      <td>엠에스인포테크</td>\n",
       "      <td>https://www.wanted.co.kr/wd/182913</td>\n",
       "      <td>NaN</td>\n",
       "    </tr>\n",
       "    <tr>\n",
       "      <th>4</th>\n",
       "      <td>엠에스투데이</td>\n",
       "      <td>https://www.wanted.co.kr/wd/182617</td>\n",
       "      <td>NaN</td>\n",
       "    </tr>\n",
       "    <tr>\n",
       "      <th>...</th>\n",
       "      <td>...</td>\n",
       "      <td>...</td>\n",
       "      <td>...</td>\n",
       "    </tr>\n",
       "    <tr>\n",
       "      <th>153</th>\n",
       "      <td>워트인텔리전스</td>\n",
       "      <td>https://www.wanted.co.kr/wd/38844</td>\n",
       "      <td>MySQL\\nOracle\\nReact\\nJava\\nJavaScript\\nKotlin...</td>\n",
       "    </tr>\n",
       "    <tr>\n",
       "      <th>154</th>\n",
       "      <td>여기어때컴퍼니</td>\n",
       "      <td>https://www.wanted.co.kr/wd/30861</td>\n",
       "      <td>NaN</td>\n",
       "    </tr>\n",
       "    <tr>\n",
       "      <th>155</th>\n",
       "      <td>워트인텔리전스</td>\n",
       "      <td>https://www.wanted.co.kr/wd/26823</td>\n",
       "      <td>MySQL\\nOracle\\nReact\\nJava\\nJavaScript\\nKotlin...</td>\n",
       "    </tr>\n",
       "    <tr>\n",
       "      <th>156</th>\n",
       "      <td>케이티넥스알(KTNexR)</td>\n",
       "      <td>https://www.wanted.co.kr/wd/13250</td>\n",
       "      <td>NaN</td>\n",
       "    </tr>\n",
       "    <tr>\n",
       "      <th>157</th>\n",
       "      <td>케이티넥스알(KTNexR)</td>\n",
       "      <td>https://www.wanted.co.kr/wd/11997</td>\n",
       "      <td>NaN</td>\n",
       "    </tr>\n",
       "  </tbody>\n",
       "</table>\n",
       "<p>158 rows × 3 columns</p>\n",
       "</div>"
      ],
      "text/plain": [
       "            company                                 url   \n",
       "0               웨이커  https://www.wanted.co.kr/wd/183274  \\\n",
       "1    타이드풀(TIDEPOOL)  https://www.wanted.co.kr/wd/183049   \n",
       "2            엠에스홀딩스  https://www.wanted.co.kr/wd/182955   \n",
       "3           엠에스인포테크  https://www.wanted.co.kr/wd/182913   \n",
       "4            엠에스투데이  https://www.wanted.co.kr/wd/182617   \n",
       "..              ...                                 ...   \n",
       "153         워트인텔리전스   https://www.wanted.co.kr/wd/38844   \n",
       "154         여기어때컴퍼니   https://www.wanted.co.kr/wd/30861   \n",
       "155         워트인텔리전스   https://www.wanted.co.kr/wd/26823   \n",
       "156  케이티넥스알(KTNexR)   https://www.wanted.co.kr/wd/13250   \n",
       "157  케이티넥스알(KTNexR)   https://www.wanted.co.kr/wd/11997   \n",
       "\n",
       "                                                  tool  \n",
       "0    Confluence\\nGit\\nGitLab\\nJIRA\\nPython\\nSQL\\nNL...  \n",
       "1    Git\\nDjango\\nPytorch\\nHTML\\nJavaScript\\nPython...  \n",
       "2                         Git\\nReact\\nHTML\\nJavaScript  \n",
       "3                                                  NaN  \n",
       "4                                                  NaN  \n",
       "..                                                 ...  \n",
       "153  MySQL\\nOracle\\nReact\\nJava\\nJavaScript\\nKotlin...  \n",
       "154                                                NaN  \n",
       "155  MySQL\\nOracle\\nReact\\nJava\\nJavaScript\\nKotlin...  \n",
       "156                                                NaN  \n",
       "157                                                NaN  \n",
       "\n",
       "[158 rows x 3 columns]"
      ]
     },
     "execution_count": 31,
     "metadata": {},
     "output_type": "execute_result"
    }
   ],
   "source": [
    "df_data_eng = df_data_eng.drop(columns = ['prefer', 'location'])\n",
    "df_data_eng"
   ]
  },
  {
   "cell_type": "code",
   "execution_count": 32,
   "metadata": {},
   "outputs": [
    {
     "data": {
      "text/html": [
       "<div>\n",
       "<style scoped>\n",
       "    .dataframe tbody tr th:only-of-type {\n",
       "        vertical-align: middle;\n",
       "    }\n",
       "\n",
       "    .dataframe tbody tr th {\n",
       "        vertical-align: top;\n",
       "    }\n",
       "\n",
       "    .dataframe thead th {\n",
       "        text-align: right;\n",
       "    }\n",
       "</style>\n",
       "<table border=\"1\" class=\"dataframe\">\n",
       "  <thead>\n",
       "    <tr style=\"text-align: right;\">\n",
       "      <th></th>\n",
       "      <th>company</th>\n",
       "      <th>url</th>\n",
       "      <th>tool</th>\n",
       "      <th>job_name</th>\n",
       "    </tr>\n",
       "  </thead>\n",
       "  <tbody>\n",
       "    <tr>\n",
       "      <th>0</th>\n",
       "      <td>웨이커</td>\n",
       "      <td>https://www.wanted.co.kr/wd/183274</td>\n",
       "      <td>Confluence\\nGit\\nGitLab\\nJIRA\\nPython\\nSQL\\nNL...</td>\n",
       "      <td>데이터엔지니어</td>\n",
       "    </tr>\n",
       "    <tr>\n",
       "      <th>1</th>\n",
       "      <td>타이드풀(TIDEPOOL)</td>\n",
       "      <td>https://www.wanted.co.kr/wd/183049</td>\n",
       "      <td>Git\\nDjango\\nPytorch\\nHTML\\nJavaScript\\nPython...</td>\n",
       "      <td>데이터엔지니어</td>\n",
       "    </tr>\n",
       "    <tr>\n",
       "      <th>2</th>\n",
       "      <td>엠에스홀딩스</td>\n",
       "      <td>https://www.wanted.co.kr/wd/182955</td>\n",
       "      <td>Git\\nReact\\nHTML\\nJavaScript</td>\n",
       "      <td>데이터엔지니어</td>\n",
       "    </tr>\n",
       "    <tr>\n",
       "      <th>3</th>\n",
       "      <td>엠에스인포테크</td>\n",
       "      <td>https://www.wanted.co.kr/wd/182913</td>\n",
       "      <td>NaN</td>\n",
       "      <td>데이터엔지니어</td>\n",
       "    </tr>\n",
       "    <tr>\n",
       "      <th>4</th>\n",
       "      <td>엠에스투데이</td>\n",
       "      <td>https://www.wanted.co.kr/wd/182617</td>\n",
       "      <td>NaN</td>\n",
       "      <td>데이터엔지니어</td>\n",
       "    </tr>\n",
       "    <tr>\n",
       "      <th>...</th>\n",
       "      <td>...</td>\n",
       "      <td>...</td>\n",
       "      <td>...</td>\n",
       "      <td>...</td>\n",
       "    </tr>\n",
       "    <tr>\n",
       "      <th>153</th>\n",
       "      <td>워트인텔리전스</td>\n",
       "      <td>https://www.wanted.co.kr/wd/38844</td>\n",
       "      <td>MySQL\\nOracle\\nReact\\nJava\\nJavaScript\\nKotlin...</td>\n",
       "      <td>데이터엔지니어</td>\n",
       "    </tr>\n",
       "    <tr>\n",
       "      <th>154</th>\n",
       "      <td>여기어때컴퍼니</td>\n",
       "      <td>https://www.wanted.co.kr/wd/30861</td>\n",
       "      <td>NaN</td>\n",
       "      <td>데이터엔지니어</td>\n",
       "    </tr>\n",
       "    <tr>\n",
       "      <th>155</th>\n",
       "      <td>워트인텔리전스</td>\n",
       "      <td>https://www.wanted.co.kr/wd/26823</td>\n",
       "      <td>MySQL\\nOracle\\nReact\\nJava\\nJavaScript\\nKotlin...</td>\n",
       "      <td>데이터엔지니어</td>\n",
       "    </tr>\n",
       "    <tr>\n",
       "      <th>156</th>\n",
       "      <td>케이티넥스알(KTNexR)</td>\n",
       "      <td>https://www.wanted.co.kr/wd/13250</td>\n",
       "      <td>NaN</td>\n",
       "      <td>데이터엔지니어</td>\n",
       "    </tr>\n",
       "    <tr>\n",
       "      <th>157</th>\n",
       "      <td>케이티넥스알(KTNexR)</td>\n",
       "      <td>https://www.wanted.co.kr/wd/11997</td>\n",
       "      <td>NaN</td>\n",
       "      <td>데이터엔지니어</td>\n",
       "    </tr>\n",
       "  </tbody>\n",
       "</table>\n",
       "<p>158 rows × 4 columns</p>\n",
       "</div>"
      ],
      "text/plain": [
       "            company                                 url   \n",
       "0               웨이커  https://www.wanted.co.kr/wd/183274  \\\n",
       "1    타이드풀(TIDEPOOL)  https://www.wanted.co.kr/wd/183049   \n",
       "2            엠에스홀딩스  https://www.wanted.co.kr/wd/182955   \n",
       "3           엠에스인포테크  https://www.wanted.co.kr/wd/182913   \n",
       "4            엠에스투데이  https://www.wanted.co.kr/wd/182617   \n",
       "..              ...                                 ...   \n",
       "153         워트인텔리전스   https://www.wanted.co.kr/wd/38844   \n",
       "154         여기어때컴퍼니   https://www.wanted.co.kr/wd/30861   \n",
       "155         워트인텔리전스   https://www.wanted.co.kr/wd/26823   \n",
       "156  케이티넥스알(KTNexR)   https://www.wanted.co.kr/wd/13250   \n",
       "157  케이티넥스알(KTNexR)   https://www.wanted.co.kr/wd/11997   \n",
       "\n",
       "                                                  tool job_name  \n",
       "0    Confluence\\nGit\\nGitLab\\nJIRA\\nPython\\nSQL\\nNL...  데이터엔지니어  \n",
       "1    Git\\nDjango\\nPytorch\\nHTML\\nJavaScript\\nPython...  데이터엔지니어  \n",
       "2                         Git\\nReact\\nHTML\\nJavaScript  데이터엔지니어  \n",
       "3                                                  NaN  데이터엔지니어  \n",
       "4                                                  NaN  데이터엔지니어  \n",
       "..                                                 ...      ...  \n",
       "153  MySQL\\nOracle\\nReact\\nJava\\nJavaScript\\nKotlin...  데이터엔지니어  \n",
       "154                                                NaN  데이터엔지니어  \n",
       "155  MySQL\\nOracle\\nReact\\nJava\\nJavaScript\\nKotlin...  데이터엔지니어  \n",
       "156                                                NaN  데이터엔지니어  \n",
       "157                                                NaN  데이터엔지니어  \n",
       "\n",
       "[158 rows x 4 columns]"
      ]
     },
     "execution_count": 32,
     "metadata": {},
     "output_type": "execute_result"
    }
   ],
   "source": [
    "df_data_eng['job_name'] = '데이터엔지니어'\n",
    "df_data_eng"
   ]
  },
  {
   "cell_type": "code",
   "execution_count": 33,
   "metadata": {},
   "outputs": [
    {
     "data": {
      "text/plain": [
       "0      [Confluence, Git, GitLab, JIRA, Python, SQL, N...\n",
       "1      [Git, Django, Pytorch, HTML, JavaScript, Pytho...\n",
       "2                         [Git, React, HTML, JavaScript]\n",
       "6                                        [MySQL, Python]\n",
       "8                        [Linux, 컴파일러, 알고리즘 개발, 네트워크 개발]\n",
       "                             ...                        \n",
       "149    [MySQL, Oracle, React, Java, JavaScript, Kotli...\n",
       "151               [Git, MySQL, Redis, Node.js, AWS, GCP]\n",
       "152                           [Git, Python, AWS, Docker]\n",
       "153    [MySQL, Oracle, React, Java, JavaScript, Kotli...\n",
       "155    [MySQL, Oracle, React, Java, JavaScript, Kotli...\n",
       "Name: tool, Length: 107, dtype: object"
      ]
     },
     "execution_count": 33,
     "metadata": {},
     "output_type": "execute_result"
    }
   ],
   "source": [
    "tool_eng = df_data_eng.loc[~df_data_eng['tool'].isna(), 'tool'].str.split(\"\\n\")\n",
    "tool_eng"
   ]
  },
  {
   "cell_type": "markdown",
   "metadata": {},
   "source": [
    "---"
   ]
  },
  {
   "cell_type": "markdown",
   "metadata": {},
   "source": [
    "# tool 정보 확인"
   ]
  },
  {
   "cell_type": "code",
   "execution_count": 50,
   "metadata": {},
   "outputs": [],
   "source": [
    "# 컬럼별 중복되는 값 개수 value count하여 DataFrame으로 반환\n",
    "def count_maker(df, inf): # 입력값 : 데이터 프레임, count 할 컬럼\n",
    "\n",
    "    inform = df.loc[~df[f'{inf}'].isna(), f'{inf}'].str.split(\"\\n\")\n",
    "    # 입력된 데이터프레임에서 null이 아닌 행만 남김\n",
    "    # 컬럼 중 입력받은 'inf'컬럼만 남김\n",
    "    # 해당 inf 컬럼에서 개행문자 '\\n' 기준으로 분리하여 infom 리스트에 저장 (중첩리스트 형태)\n",
    "\n",
    "    informs = []\n",
    "    for i in inform:\n",
    "        for j in i:\n",
    "            informs.append(j)\n",
    "    # 중첩리스트에서 하나씩 불러와서 informs 리스트에 각각 저장\n",
    "\n",
    "    return pd.DataFrame({f'{inf}' : informs}).value_counts().reset_index()\n",
    "    # informs리스트 -> 데이터프레임으로 변환, value_counts()사용하여 중복값 갯수 세어 df로 반환 "
   ]
  },
  {
   "cell_type": "code",
   "execution_count": 51,
   "metadata": {},
   "outputs": [
    {
     "data": {
      "text/html": [
       "<div>\n",
       "<style scoped>\n",
       "    .dataframe tbody tr th:only-of-type {\n",
       "        vertical-align: middle;\n",
       "    }\n",
       "\n",
       "    .dataframe tbody tr th {\n",
       "        vertical-align: top;\n",
       "    }\n",
       "\n",
       "    .dataframe thead th {\n",
       "        text-align: right;\n",
       "    }\n",
       "</style>\n",
       "<table border=\"1\" class=\"dataframe\">\n",
       "  <thead>\n",
       "    <tr style=\"text-align: right;\">\n",
       "      <th></th>\n",
       "      <th>tool</th>\n",
       "      <th>count</th>\n",
       "    </tr>\n",
       "  </thead>\n",
       "  <tbody>\n",
       "    <tr>\n",
       "      <th>0</th>\n",
       "      <td>Python</td>\n",
       "      <td>65</td>\n",
       "    </tr>\n",
       "    <tr>\n",
       "      <th>1</th>\n",
       "      <td>AWS</td>\n",
       "      <td>42</td>\n",
       "    </tr>\n",
       "    <tr>\n",
       "      <th>2</th>\n",
       "      <td>SQL</td>\n",
       "      <td>29</td>\n",
       "    </tr>\n",
       "    <tr>\n",
       "      <th>3</th>\n",
       "      <td>Git</td>\n",
       "      <td>28</td>\n",
       "    </tr>\n",
       "    <tr>\n",
       "      <th>4</th>\n",
       "      <td>Java</td>\n",
       "      <td>25</td>\n",
       "    </tr>\n",
       "    <tr>\n",
       "      <th>5</th>\n",
       "      <td>JavaScript</td>\n",
       "      <td>24</td>\n",
       "    </tr>\n",
       "    <tr>\n",
       "      <th>6</th>\n",
       "      <td>React</td>\n",
       "      <td>23</td>\n",
       "    </tr>\n",
       "    <tr>\n",
       "      <th>7</th>\n",
       "      <td>TypeScript</td>\n",
       "      <td>23</td>\n",
       "    </tr>\n",
       "    <tr>\n",
       "      <th>8</th>\n",
       "      <td>MySQL</td>\n",
       "      <td>21</td>\n",
       "    </tr>\n",
       "    <tr>\n",
       "      <th>9</th>\n",
       "      <td>Docker</td>\n",
       "      <td>21</td>\n",
       "    </tr>\n",
       "  </tbody>\n",
       "</table>\n",
       "</div>"
      ],
      "text/plain": [
       "         tool  count\n",
       "0      Python     65\n",
       "1         AWS     42\n",
       "2         SQL     29\n",
       "3         Git     28\n",
       "4        Java     25\n",
       "5  JavaScript     24\n",
       "6       React     23\n",
       "7  TypeScript     23\n",
       "8       MySQL     21\n",
       "9      Docker     21"
      ]
     },
     "execution_count": 51,
     "metadata": {},
     "output_type": "execute_result"
    }
   ],
   "source": [
    "# 데이터 엔지니어 tool 확인\n",
    "df_DE_tool = count_maker(df_data_eng, 'tool')\n",
    "df_DE_tool.head(10)"
   ]
  },
  {
   "cell_type": "code",
   "execution_count": 52,
   "metadata": {},
   "outputs": [
    {
     "data": {
      "text/html": [
       "<div>\n",
       "<style scoped>\n",
       "    .dataframe tbody tr th:only-of-type {\n",
       "        vertical-align: middle;\n",
       "    }\n",
       "\n",
       "    .dataframe tbody tr th {\n",
       "        vertical-align: top;\n",
       "    }\n",
       "\n",
       "    .dataframe thead th {\n",
       "        text-align: right;\n",
       "    }\n",
       "</style>\n",
       "<table border=\"1\" class=\"dataframe\">\n",
       "  <thead>\n",
       "    <tr style=\"text-align: right;\">\n",
       "      <th></th>\n",
       "      <th>tool</th>\n",
       "      <th>count</th>\n",
       "    </tr>\n",
       "  </thead>\n",
       "  <tbody>\n",
       "    <tr>\n",
       "      <th>0</th>\n",
       "      <td>SQL</td>\n",
       "      <td>21</td>\n",
       "    </tr>\n",
       "    <tr>\n",
       "      <th>1</th>\n",
       "      <td>Excel</td>\n",
       "      <td>12</td>\n",
       "    </tr>\n",
       "    <tr>\n",
       "      <th>2</th>\n",
       "      <td>Tableau</td>\n",
       "      <td>10</td>\n",
       "    </tr>\n",
       "    <tr>\n",
       "      <th>3</th>\n",
       "      <td>데이터 분석</td>\n",
       "      <td>10</td>\n",
       "    </tr>\n",
       "    <tr>\n",
       "      <th>4</th>\n",
       "      <td>Python</td>\n",
       "      <td>10</td>\n",
       "    </tr>\n",
       "    <tr>\n",
       "      <th>5</th>\n",
       "      <td>JIRA</td>\n",
       "      <td>10</td>\n",
       "    </tr>\n",
       "    <tr>\n",
       "      <th>6</th>\n",
       "      <td>Google Analytics</td>\n",
       "      <td>9</td>\n",
       "    </tr>\n",
       "    <tr>\n",
       "      <th>7</th>\n",
       "      <td>Confluence</td>\n",
       "      <td>8</td>\n",
       "    </tr>\n",
       "    <tr>\n",
       "      <th>8</th>\n",
       "      <td>Slack</td>\n",
       "      <td>7</td>\n",
       "    </tr>\n",
       "    <tr>\n",
       "      <th>9</th>\n",
       "      <td>Notion</td>\n",
       "      <td>7</td>\n",
       "    </tr>\n",
       "  </tbody>\n",
       "</table>\n",
       "</div>"
      ],
      "text/plain": [
       "               tool  count\n",
       "0               SQL     21\n",
       "1             Excel     12\n",
       "2           Tableau     10\n",
       "3            데이터 분석     10\n",
       "4            Python     10\n",
       "5              JIRA     10\n",
       "6  Google Analytics      9\n",
       "7        Confluence      8\n",
       "8             Slack      7\n",
       "9            Notion      7"
      ]
     },
     "execution_count": 52,
     "metadata": {},
     "output_type": "execute_result"
    }
   ],
   "source": [
    "# 데이터 분석 tool 확인\n",
    "df_AN_tool = count_maker(df_data_anl, 'tool')\n",
    "df_AN_tool.head(10)"
   ]
  },
  {
   "cell_type": "code",
   "execution_count": 53,
   "metadata": {},
   "outputs": [
    {
     "data": {
      "text/html": [
       "<div>\n",
       "<style scoped>\n",
       "    .dataframe tbody tr th:only-of-type {\n",
       "        vertical-align: middle;\n",
       "    }\n",
       "\n",
       "    .dataframe tbody tr th {\n",
       "        vertical-align: top;\n",
       "    }\n",
       "\n",
       "    .dataframe thead th {\n",
       "        text-align: right;\n",
       "    }\n",
       "</style>\n",
       "<table border=\"1\" class=\"dataframe\">\n",
       "  <thead>\n",
       "    <tr style=\"text-align: right;\">\n",
       "      <th></th>\n",
       "      <th>tool</th>\n",
       "      <th>count</th>\n",
       "    </tr>\n",
       "  </thead>\n",
       "  <tbody>\n",
       "    <tr>\n",
       "      <th>0</th>\n",
       "      <td>Python</td>\n",
       "      <td>95</td>\n",
       "    </tr>\n",
       "    <tr>\n",
       "      <th>1</th>\n",
       "      <td>AWS</td>\n",
       "      <td>63</td>\n",
       "    </tr>\n",
       "    <tr>\n",
       "      <th>2</th>\n",
       "      <td>Git</td>\n",
       "      <td>45</td>\n",
       "    </tr>\n",
       "    <tr>\n",
       "      <th>3</th>\n",
       "      <td>JavaScript</td>\n",
       "      <td>37</td>\n",
       "    </tr>\n",
       "    <tr>\n",
       "      <th>4</th>\n",
       "      <td>React</td>\n",
       "      <td>37</td>\n",
       "    </tr>\n",
       "    <tr>\n",
       "      <th>5</th>\n",
       "      <td>SQL</td>\n",
       "      <td>36</td>\n",
       "    </tr>\n",
       "    <tr>\n",
       "      <th>6</th>\n",
       "      <td>Java</td>\n",
       "      <td>33</td>\n",
       "    </tr>\n",
       "    <tr>\n",
       "      <th>7</th>\n",
       "      <td>MySQL</td>\n",
       "      <td>29</td>\n",
       "    </tr>\n",
       "    <tr>\n",
       "      <th>8</th>\n",
       "      <td>TypeScript</td>\n",
       "      <td>29</td>\n",
       "    </tr>\n",
       "    <tr>\n",
       "      <th>9</th>\n",
       "      <td>Docker</td>\n",
       "      <td>26</td>\n",
       "    </tr>\n",
       "  </tbody>\n",
       "</table>\n",
       "</div>"
      ],
      "text/plain": [
       "         tool  count\n",
       "0      Python     95\n",
       "1         AWS     63\n",
       "2         Git     45\n",
       "3  JavaScript     37\n",
       "4       React     37\n",
       "5         SQL     36\n",
       "6        Java     33\n",
       "7       MySQL     29\n",
       "8  TypeScript     29\n",
       "9      Docker     26"
      ]
     },
     "execution_count": 53,
     "metadata": {},
     "output_type": "execute_result"
    }
   ],
   "source": [
    "# 데이터 사이언티스트 tool 확인\n",
    "df_SCI_tool = count_maker(df_data_sci, 'tool')\n",
    "df_SCI_tool.head(10)"
   ]
  },
  {
   "cell_type": "code",
   "execution_count": 162,
   "metadata": {},
   "outputs": [],
   "source": [
    "# tool 정보 csv 저장\n",
    "df_DE_tool.to_csv(\"tool_DE.csv\", encoding = 'ANSI', index = False)\n",
    "df_AN_tool.to_csv(\"tool_AN.csv\", encoding = 'ANSI', index = False)\n",
    "df_SCI_tool.to_csv(\"tool_SC.csv\", encoding = 'ANSI', index = False)"
   ]
  },
  {
   "cell_type": "markdown",
   "metadata": {},
   "source": [
    "---"
   ]
  },
  {
   "cell_type": "markdown",
   "metadata": {},
   "source": [
    "# 지역정보 확인\n",
    "- count_maker 함수 활용, 지역 확인\n",
    "- 지역의 경우 대부분 서울, 경기.. -> 시각화 할 필요성 X"
   ]
  },
  {
   "cell_type": "code",
   "execution_count": 54,
   "metadata": {},
   "outputs": [
    {
     "data": {
      "text/html": [
       "<div>\n",
       "<style scoped>\n",
       "    .dataframe tbody tr th:only-of-type {\n",
       "        vertical-align: middle;\n",
       "    }\n",
       "\n",
       "    .dataframe tbody tr th {\n",
       "        vertical-align: top;\n",
       "    }\n",
       "\n",
       "    .dataframe thead th {\n",
       "        text-align: right;\n",
       "    }\n",
       "</style>\n",
       "<table border=\"1\" class=\"dataframe\">\n",
       "  <thead>\n",
       "    <tr style=\"text-align: right;\">\n",
       "      <th></th>\n",
       "      <th>location</th>\n",
       "      <th>count</th>\n",
       "    </tr>\n",
       "  </thead>\n",
       "  <tbody>\n",
       "    <tr>\n",
       "      <th>0</th>\n",
       "      <td>서울.한국</td>\n",
       "      <td>136</td>\n",
       "    </tr>\n",
       "    <tr>\n",
       "      <th>1</th>\n",
       "      <td>경기.한국</td>\n",
       "      <td>23</td>\n",
       "    </tr>\n",
       "    <tr>\n",
       "      <th>2</th>\n",
       "      <td>대전.한국</td>\n",
       "      <td>4</td>\n",
       "    </tr>\n",
       "    <tr>\n",
       "      <th>3</th>\n",
       "      <td>경남.한국</td>\n",
       "      <td>1</td>\n",
       "    </tr>\n",
       "    <tr>\n",
       "      <th>4</th>\n",
       "      <td>부산.한국</td>\n",
       "      <td>1</td>\n",
       "    </tr>\n",
       "    <tr>\n",
       "      <th>5</th>\n",
       "      <td>인천.한국</td>\n",
       "      <td>1</td>\n",
       "    </tr>\n",
       "  </tbody>\n",
       "</table>\n",
       "</div>"
      ],
      "text/plain": [
       "  location  count\n",
       "0    서울.한국    136\n",
       "1    경기.한국     23\n",
       "2    대전.한국      4\n",
       "3    경남.한국      1\n",
       "4    부산.한국      1\n",
       "5    인천.한국      1"
      ]
     },
     "execution_count": 54,
     "metadata": {},
     "output_type": "execute_result"
    }
   ],
   "source": [
    "# 데이터 엔지니어 지역\n",
    "df_DE_location = count_maker(df_data_eng, 'location')\n",
    "df_DE_location"
   ]
  },
  {
   "cell_type": "code",
   "execution_count": 55,
   "metadata": {},
   "outputs": [
    {
     "data": {
      "text/html": [
       "<div>\n",
       "<style scoped>\n",
       "    .dataframe tbody tr th:only-of-type {\n",
       "        vertical-align: middle;\n",
       "    }\n",
       "\n",
       "    .dataframe tbody tr th {\n",
       "        vertical-align: top;\n",
       "    }\n",
       "\n",
       "    .dataframe thead th {\n",
       "        text-align: right;\n",
       "    }\n",
       "</style>\n",
       "<table border=\"1\" class=\"dataframe\">\n",
       "  <thead>\n",
       "    <tr style=\"text-align: right;\">\n",
       "      <th></th>\n",
       "      <th>location</th>\n",
       "      <th>count</th>\n",
       "    </tr>\n",
       "  </thead>\n",
       "  <tbody>\n",
       "    <tr>\n",
       "      <th>0</th>\n",
       "      <td>서울.한국</td>\n",
       "      <td>154</td>\n",
       "    </tr>\n",
       "    <tr>\n",
       "      <th>1</th>\n",
       "      <td>경기.한국</td>\n",
       "      <td>19</td>\n",
       "    </tr>\n",
       "  </tbody>\n",
       "</table>\n",
       "</div>"
      ],
      "text/plain": [
       "  location  count\n",
       "0    서울.한국    154\n",
       "1    경기.한국     19"
      ]
     },
     "execution_count": 55,
     "metadata": {},
     "output_type": "execute_result"
    }
   ],
   "source": [
    "# 데이터 분석가 지역\n",
    "df_AN_location = count_maker(df_data_anl, 'location')\n",
    "df_AN_location"
   ]
  },
  {
   "cell_type": "code",
   "execution_count": 56,
   "metadata": {},
   "outputs": [
    {
     "data": {
      "text/html": [
       "<div>\n",
       "<style scoped>\n",
       "    .dataframe tbody tr th:only-of-type {\n",
       "        vertical-align: middle;\n",
       "    }\n",
       "\n",
       "    .dataframe tbody tr th {\n",
       "        vertical-align: top;\n",
       "    }\n",
       "\n",
       "    .dataframe thead th {\n",
       "        text-align: right;\n",
       "    }\n",
       "</style>\n",
       "<table border=\"1\" class=\"dataframe\">\n",
       "  <thead>\n",
       "    <tr style=\"text-align: right;\">\n",
       "      <th></th>\n",
       "      <th>location</th>\n",
       "      <th>count</th>\n",
       "    </tr>\n",
       "  </thead>\n",
       "  <tbody>\n",
       "    <tr>\n",
       "      <th>0</th>\n",
       "      <td>서울.한국</td>\n",
       "      <td>200</td>\n",
       "    </tr>\n",
       "    <tr>\n",
       "      <th>1</th>\n",
       "      <td>경기.한국</td>\n",
       "      <td>28</td>\n",
       "    </tr>\n",
       "    <tr>\n",
       "      <th>2</th>\n",
       "      <td>인천.한국</td>\n",
       "      <td>4</td>\n",
       "    </tr>\n",
       "    <tr>\n",
       "      <th>3</th>\n",
       "      <td>대전.한국</td>\n",
       "      <td>2</td>\n",
       "    </tr>\n",
       "    <tr>\n",
       "      <th>4</th>\n",
       "      <td>부산.한국</td>\n",
       "      <td>1</td>\n",
       "    </tr>\n",
       "    <tr>\n",
       "      <th>5</th>\n",
       "      <td>제주.한국</td>\n",
       "      <td>1</td>\n",
       "    </tr>\n",
       "  </tbody>\n",
       "</table>\n",
       "</div>"
      ],
      "text/plain": [
       "  location  count\n",
       "0    서울.한국    200\n",
       "1    경기.한국     28\n",
       "2    인천.한국      4\n",
       "3    대전.한국      2\n",
       "4    부산.한국      1\n",
       "5    제주.한국      1"
      ]
     },
     "execution_count": 56,
     "metadata": {},
     "output_type": "execute_result"
    }
   ],
   "source": [
    "# 데이터 사이언티스트 지역\n",
    "df_SCI_location = count_maker(df_data_sci, 'location')\n",
    "df_SCI_location"
   ]
  },
  {
   "cell_type": "markdown",
   "metadata": {},
   "source": [
    "---"
   ]
  },
  {
   "cell_type": "markdown",
   "metadata": {},
   "source": [
    "# 우대사항 정보 확인"
   ]
  },
  {
   "cell_type": "markdown",
   "metadata": {},
   "source": [
    "- tool, 지역과 달리 키워드가 아니므로 형태소 분석(단어분리) 필요"
   ]
  },
  {
   "cell_type": "markdown",
   "metadata": {},
   "source": [
    "- 같은 회사의 공고의 경우 우대사항이 겹치는 경우가 있음\n",
    "    - 같은 내용 중복 제거 필요"
   ]
  },
  {
   "cell_type": "code",
   "execution_count": 57,
   "metadata": {},
   "outputs": [
    {
     "data": {
      "text/plain": [
       "0      [• AI 또는 디지털을 활용한 검색, 기사 발굴, 작성 경험자, • 데이터사이언스...\n",
       "3      [• AI 또는 디지털을 활용한 검색, 기사 발굴, 작성 경험자, • 데이터사이언스...\n",
       "4      [• 가상자산 산업에 관심과 이해가 있는 분, • 데이터 적재 및 활용을 위한 프로...\n",
       "5      [• Spark, Kafka, Airflow 등 빅데이터 솔루션 경험 우대, • A...\n",
       "6      [- 컴퓨터 공학 관련 학과 전공, - Full stack 개발자 , - Sprin...\n",
       "                             ...                        \n",
       "161    [- Full-Stack 개발자, - 검색엔진으로 서비스 진행 경험, - 유지보수를...\n",
       "162    [- 이기종 데이터베이스 마이그레이션 경험이 있으신 분, - 대용량 트래픽 처리를 ...\n",
       "163    [- 대량의 데이터를 파이프라인으로 다뤄본 경험, - 검색엔진을 다뤄본 경험, - ...\n",
       "164    [• Big Data 관련 개발 경험 및 관련 Open Source 사용 경험, •...\n",
       "165    [• Hadoop 및 Hadoop Eco 활용 가능자( hdfs, Spark, Hi...\n",
       "Name: prefer, Length: 163, dtype: object"
      ]
     },
     "execution_count": 57,
     "metadata": {},
     "output_type": "execute_result"
    }
   ],
   "source": [
    "df_DE_prefer = df_data_eng['prefer'].drop_duplicates().str.split(\"\\n\") #개행문자 기준 분리\n",
    "df_DE_prefer"
   ]
  },
  {
   "cell_type": "code",
   "execution_count": 58,
   "metadata": {},
   "outputs": [
    {
     "data": {
      "text/plain": [
       "'• AI 또는 디지털을 활용한 검색, 기사 발굴, 작성 경험자'"
      ]
     },
     "execution_count": 58,
     "metadata": {},
     "output_type": "execute_result"
    }
   ],
   "source": [
    "df_DE_prefer[0][0]"
   ]
  },
  {
   "cell_type": "code",
   "execution_count": 59,
   "metadata": {},
   "outputs": [],
   "source": [
    "# 형태소 분석기 별 테스트\n",
    "from konlpy.tag import Okt\n",
    "from konlpy.tag import Hannanum \n",
    "from konlpy.tag import Kkma \n",
    "from konlpy.tag import Komoran \n",
    "# from konlpy.tag import Mecab"
   ]
  },
  {
   "cell_type": "code",
   "execution_count": 60,
   "metadata": {},
   "outputs": [
    {
     "name": "stdout",
     "output_type": "stream",
     "text": [
      "['•', 'AI', '또는', '디지털', '을', '활용', '한', '검색', ',', '기사', '발굴', ',', '작성', '경험', '자']\n"
     ]
    }
   ],
   "source": [
    "# 1번째 데이터만 형태소 분석 결과 : 크게 유의미하지 않음\n",
    "okt = Okt()\n",
    "print(okt.morphs(df_DE_prefer[0][0]))"
   ]
  },
  {
   "cell_type": "code",
   "execution_count": 61,
   "metadata": {},
   "outputs": [],
   "source": [
    "# 나머지 형태소 분석기 테스트\n",
    "hannanum = Hannanum()\n",
    "kkma = Kkma()\n",
    "komoran = Komoran()"
   ]
  },
  {
   "cell_type": "markdown",
   "metadata": {},
   "source": [
    "- hannanum Class"
   ]
  },
  {
   "cell_type": "code",
   "execution_count": 62,
   "metadata": {},
   "outputs": [
    {
     "name": "stdout",
     "output_type": "stream",
     "text": [
      "[[[('•', 'ncn')], [('•', 'nqq')]], [[('AI', 'f')]], [[('또는', 'maj')]], [[('디지털', 'ncn'), ('을', 'jco')]], [[('활용', 'ncpa'), ('한', 'ncn')], [('활용', 'ncpa'), ('하', 'xsva'), ('ㄴ', 'etm')]], [[('검색', 'ncpa'), (',', 'sp')]], [[('기사', 'ncr')]], [[('발굴', 'ncpa'), (',', 'sp')]], [[('작성', 'ncpa')]], [[('경험자', 'ncn')], [('경험', 'ncpa'), ('자', 'ncn')]]]\n",
      "['•', 'AI', '또는', '디지털', '을', '활용', '하', 'ㄴ', '검색', ',', '기사', '발굴', ',', '작성', '경험자']\n",
      "['•', '디지털', '활용', '검색', '기사', '발굴', '작성', '경험자']\n",
      "[('•', 'N'), ('AI', 'F'), ('또는', 'M'), ('디지털', 'N'), ('을', 'J'), ('활용', 'N'), ('하', 'X'), ('ㄴ', 'E'), ('검색', 'N'), (',', 'S'), ('기사', 'N'), ('발굴', 'N'), (',', 'S'), ('작성', 'N'), ('경험자', 'N')]\n"
     ]
    }
   ],
   "source": [
    "print(hannanum.analyze(df_DE_prefer[0][0])) # 다양한 형태로 반환\n",
    "print(hannanum.morphs(df_DE_prefer[0][0])) # 형태소 반환\n",
    "print(hannanum.nouns(df_DE_prefer[0][0])) # 명사 반환\n",
    "print(hannanum.pos(df_DE_prefer[0][0])) # 품사 정보 부착하여 반환\n"
   ]
  },
  {
   "cell_type": "markdown",
   "metadata": {},
   "source": [
    "- Kkma Class"
   ]
  },
  {
   "cell_type": "code",
   "execution_count": 63,
   "metadata": {},
   "outputs": [
    {
     "name": "stdout",
     "output_type": "stream",
     "text": [
      "['•', 'AI', '또는', '디지털', '을', '활용', '하', 'ㄴ', '검색', ',', '기사', '발굴', ',', '작성', '경험자']\n",
      "['디지털', '활용', '검색', '기사', '발굴', '작성', '경험자']\n",
      "[('•', 'SW'), ('AI', 'OL'), ('또는', 'MAG'), ('디지털', 'NNG'), ('을', 'JKO'), ('활용', 'NNG'), ('하', 'XSV'), ('ㄴ', 'ETD'), ('검색', 'NNG'), (',', 'SP'), ('기사', 'NNG'), ('발굴', 'NNG'), (',', 'SP'), ('작성', 'NNG'), ('경험자', 'NNG')]\n",
      "['• AI 또는 디지털을 활용한 검색, 기사 발굴, 작성 경험자']\n"
     ]
    }
   ],
   "source": [
    "print(kkma.morphs(df_DE_prefer[0][0])) # \n",
    "print(kkma.nouns(df_DE_prefer[0][0])) # \n",
    "print(kkma.pos(df_DE_prefer[0][0])) # \n",
    "print(kkma.sentences(df_DE_prefer[0][0])) # "
   ]
  },
  {
   "cell_type": "markdown",
   "metadata": {},
   "source": [
    "# kkma 클래스의 nouns 채택"
   ]
  },
  {
   "cell_type": "code",
   "execution_count": 141,
   "metadata": {},
   "outputs": [],
   "source": [
    "# 데이터프레임에서 명사 추출하여 리스트로 반환하는 함수 생성\n",
    "\n",
    "def N_pop(df): \n",
    "    prefer = df['prefer'].drop_duplicates().dropna().str.split(\"\\n\") #개행문자 기준 분리\n",
    "    N_lists = [] # 추출 된 명사가 들어 갈 리스트 (중첩리스트 형태로 저장)\n",
    "    for i in prefer:\n",
    "        for j in i:\n",
    "            N_lists.append(kkma.nouns(j))\n",
    "\n",
    "    N_list = [] # 하나의 리스트로 변환\n",
    "\n",
    "    for i in N_lists:\n",
    "        for j in i:\n",
    "            if len(j) > 1: # 글자수가 1개인 경우 리스트에 추가 안함\n",
    "                N_list.append(j)\n",
    "\n",
    "    return pd.DataFrame({'prefer' : N_list})"
   ]
  },
  {
   "cell_type": "code",
   "execution_count": 159,
   "metadata": {},
   "outputs": [],
   "source": [
    "df_DE_key = N_pop(df_data_eng)\n",
    "df_DE_key = count_maker(df_DE_key, 'prefer')\n",
    "df_DE_key.to_csv(\"prefer_DE.csv\", encoding = 'ANSI', index = False)"
   ]
  },
  {
   "cell_type": "code",
   "execution_count": 160,
   "metadata": {},
   "outputs": [],
   "source": [
    "df_DA_key = N_pop(df_data_anl)\n",
    "df_DA_key = count_maker(df_DA_key, 'prefer')\n",
    "df_DA_key.to_csv(\"prefer_DA.csv\", encoding = 'ANSI', index = False)"
   ]
  },
  {
   "cell_type": "code",
   "execution_count": 161,
   "metadata": {},
   "outputs": [],
   "source": [
    "df_SC_key = N_pop(df_data_sci)\n",
    "df_SC_key = count_maker(df_SC_key, 'prefer')\n",
    "df_SC_key.to_csv(\"prefer_SC.csv\", encoding = 'ANSI', index = False)"
   ]
  }
 ],
 "metadata": {
  "kernelspec": {
   "display_name": "Python 3",
   "language": "python",
   "name": "python3"
  },
  "language_info": {
   "codemirror_mode": {
    "name": "ipython",
    "version": 3
   },
   "file_extension": ".py",
   "mimetype": "text/x-python",
   "name": "python",
   "nbconvert_exporter": "python",
   "pygments_lexer": "ipython3",
   "version": "3.8.1"
  },
  "orig_nbformat": 4
 },
 "nbformat": 4,
 "nbformat_minor": 2
}
